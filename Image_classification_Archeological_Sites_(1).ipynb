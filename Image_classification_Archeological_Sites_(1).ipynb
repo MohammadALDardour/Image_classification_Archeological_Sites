{
  "nbformat": 4,
  "nbformat_minor": 0,
  "metadata": {
    "colab": {
      "provenance": [],
      "gpuType": "T4"
    },
    "kernelspec": {
      "name": "python3",
      "display_name": "Python 3"
    },
    "language_info": {
      "name": "python"
    },
    "accelerator": "GPU"
  },
  "cells": [
    {
      "cell_type": "code",
      "execution_count": null,
      "metadata": {
        "id": "ksPTAlQfwEKs"
      },
      "outputs": [],
      "source": [
        "import os\n",
        "import cv2\n",
        "import numpy as np\n",
        "import matplotlib.pyplot as plt\n",
        "import tensorflow as tf\n",
        "from sklearn.model_selection import train_test_split\n",
        "from tensorflow.keras import layers, models\n",
        "from tensorflow.keras.applications import InceptionV3, EfficientNetB0, ResNet50, VGG16\n",
        "\n"
      ]
    },
    {
      "cell_type": "code",
      "source": [
        "target_size = (224, 224)\n",
        "SEED = 42\n",
        "BATCH_SIZE = 32\n",
        "BUFFER_SIZE = 1024\n",
        "AUTOTUNE = tf.data.experimental.AUTOTUNE"
      ],
      "metadata": {
        "id": "WN8qcgDI8JEH"
      },
      "execution_count": null,
      "outputs": []
    },
    {
      "cell_type": "markdown",
      "source": [
        "##ImageProcessor:"
      ],
      "metadata": {
        "id": "vQe05trv4EMc"
      }
    },
    {
      "cell_type": "code",
      "source": [
        "class ImageProcessor:\n",
        "\n",
        "    @staticmethod\n",
        "    def augment_images(images):\n",
        "        datagen = tf.keras.preprocessing.image.ImageDataGenerator(\n",
        "            rotation_range=20,\n",
        "            width_shift_range=0.2,\n",
        "            height_shift_range=0.2,\n",
        "            shear_range=0.2,\n",
        "            zoom_range=0.2,\n",
        "            horizontal_flip=True,\n",
        "            fill_mode='nearest'\n",
        "        )\n",
        "\n",
        "        augmented_images = []\n",
        "        for img in images:\n",
        "            img = img.reshape((1,) + img.shape)\n",
        "            for batch in datagen.flow(img, batch_size=1):\n",
        "                augmented_images.append(batch[0])\n",
        "                break\n",
        "\n",
        "        return np.array(augmented_images)"
      ],
      "metadata": {
        "id": "FOTFiKP22vth"
      },
      "execution_count": null,
      "outputs": []
    },
    {
      "cell_type": "markdown",
      "source": [
        "##DataLoader"
      ],
      "metadata": {
        "id": "zpj98j5IKG11"
      }
    },
    {
      "cell_type": "code",
      "source": [
        "class DataLoader:\n",
        "\n",
        "    @staticmethod\n",
        "    def read_and_resize_images(folder_path, label, target_shape=(224, 224)):\n",
        "        images = []\n",
        "        labels = []\n",
        "\n",
        "        for filename in os.listdir(folder_path):\n",
        "            if filename.endswith(('.jpg', '.jpeg', '.png')):\n",
        "                img_path = os.path.join(folder_path, filename)\n",
        "                img = cv2.imread(img_path)\n",
        "                if img is not None:\n",
        "                    img = cv2.resize(img, target_shape)\n",
        "                    if img.shape[:2] == target_shape:\n",
        "                        images.append(img)\n",
        "                        labels.append(label)\n",
        "\n",
        "        num_images = len(images)\n",
        "        print(f\"Loaded {num_images} images for class {label} from folder {folder_path}\")\n",
        "        return images, labels\n",
        "\n",
        "    @staticmethod\n",
        "    def load_dataset(root_folder):\n",
        "        all_images = []\n",
        "        all_labels = []\n",
        "        class_folders = sorted(os.listdir(root_folder))\n",
        "\n",
        "        for label, class_folder in enumerate(class_folders):\n",
        "            class_path = os.path.join(root_folder, class_folder)\n",
        "            if os.path.isdir(class_path):\n",
        "                images, labels = DataLoader.read_and_resize_images(class_path, label)\n",
        "                all_images.extend(images)\n",
        "                all_labels.extend(labels)\n",
        "\n",
        "        return class_folders, np.array(all_images), np.array(all_labels)\n",
        "\n",
        "    @staticmethod\n",
        "    def plot_images(images, labels, class_folders):\n",
        "        num_classes = len(class_folders)\n",
        "        fig, axes = plt.subplots(1, num_classes, figsize=(15, 3))\n",
        "\n",
        "        for i in range(num_classes):\n",
        "            class_images = images[labels == i]\n",
        "            axes[i].imshow(class_images[0][:, :, ::-1])\n",
        "            axes[i].set_title(f\" {class_folders[i]}\")\n",
        "            axes[i].axis('off')\n",
        "\n",
        "        plt.show()\n",
        "\n",
        "    @staticmethod\n",
        "    def split_dataset(images, labels, batch_size, seed=42, validation_size=0.2):\n",
        "        # Split dataset into training and validation sets\n",
        "        train_images, val_images, train_labels, val_labels = train_test_split(\n",
        "            images, labels, test_size=validation_size, random_state=seed)\n",
        "\n",
        "        # Create tf.data.Dataset for training and validation\n",
        "        train_dataset = tf.data.Dataset.from_tensor_slices((train_images, train_labels))\n",
        "        val_dataset = tf.data.Dataset.from_tensor_slices((val_images, val_labels))\n",
        "\n",
        "        # Shuffle and batch the training dataset, and prefetch it for better performance\n",
        "        train_dataset = train_dataset.shuffle(buffer_size=len(train_images), seed=seed).batch(batch_size).prefetch(AUTOTUNE)\n",
        "\n",
        "        # Batch the validation dataset, and prefetch it\n",
        "        val_dataset = val_dataset.batch(batch_size).prefetch(AUTOTUNE)\n",
        "\n",
        "        return train_dataset, val_dataset"
      ],
      "metadata": {
        "id": "G6UND1jew_6N"
      },
      "execution_count": null,
      "outputs": []
    },
    {
      "cell_type": "code",
      "source": [
        "class ModelTrainer:\n",
        "\n",
        "    @staticmethod\n",
        "    def build_model(base_model, num_classes):\n",
        "        # Freeze the base model layers\n",
        "        for layer in base_model.layers:\n",
        "            layer.trainable = False\n",
        "\n",
        "        # Create a custom model on top of the pre-trained base\n",
        "        model = models.Sequential()\n",
        "        model.add(base_model)\n",
        "        model.add(layers.Flatten())\n",
        "        model.add(layers.Dense(256, activation='relu'))\n",
        "        model.add(layers.Dropout(0.5))\n",
        "        model.add(layers.Dense(num_classes, activation='softmax'))\n",
        "\n",
        "        return model\n",
        "\n",
        "    @staticmethod\n",
        "    def compile_model(model):\n",
        "        # Compile the model\n",
        "        model.compile(optimizer='adam', loss='sparse_categorical_crossentropy', metrics=['accuracy'])\n",
        "        return model\n",
        "\n",
        "    @staticmethod\n",
        "    def train_model(model, train_dataset, val_dataset, epochs=5):\n",
        "        # Train the model using tf.data.Dataset\n",
        "        history = model.fit(train_dataset, epochs=epochs, validation_data=val_dataset)\n",
        "        return model, history\n",
        "\n",
        "    @staticmethod\n",
        "    def plot_history(history):\n",
        "        # Plotting losses and accuracy\n",
        "        plt.figure(figsize=(12, 4))\n",
        "\n",
        "        # Plot training & validation accuracy values\n",
        "        plt.subplot(1, 2, 1)\n",
        "        plt.plot(history.history['accuracy'])\n",
        "        plt.plot(history.history['val_accuracy'])\n",
        "        plt.title('Model accuracy')\n",
        "        plt.xlabel('Epoch')\n",
        "        plt.ylabel('Accuracy')\n",
        "        plt.legend(['Train', 'Test'], loc='upper left')\n",
        "\n",
        "        # Plot training & validation loss values\n",
        "        plt.subplot(1, 2, 2)\n",
        "        plt.plot(history.history['loss'])\n",
        "        plt.plot(history.history['val_loss'])\n",
        "        plt.title('Model loss')\n",
        "        plt.xlabel('Epoch')\n",
        "        plt.ylabel('Loss')\n",
        "        plt.legend(['Train', 'Test'], loc='upper left')\n",
        "\n",
        "        plt.tight_layout()\n",
        "        plt.show()\n",
        "\n",
        "    @staticmethod\n",
        "    def save_model(model, file_path='saved_model.h5'):\n",
        "        # Save the model\n",
        "        model.save(file_path)\n",
        "\n",
        "    @staticmethod\n",
        "    def load_model(file_path='saved_model.h5'):\n",
        "        # Load the saved model\n",
        "        loaded_model = tf.keras.models.load_model(file_path)\n",
        "        return loaded_model\n",
        "\n",
        "    @staticmethod\n",
        "    def evaluate_model(loaded_model, val_dataset):\n",
        "        # Evaluate the loaded model\n",
        "        eval_result = loaded_model.evaluate(val_dataset)\n",
        "        print(\"Loaded Model - Loss: {}, Accuracy: {}\".format(eval_result[0], eval_result[1]))\n",
        "\n",
        "    @staticmethod\n",
        "    def predict_with_model(loaded_model, sample_image_path, target_size):\n",
        "        # Make predictions using the loaded model\n",
        "        img = tf.keras.preprocessing.image.load_img(sample_image_path, target_size=target_size)\n",
        "        img_array = tf.keras.preprocessing.image.img_to_array(img)\n",
        "        img_array = tf.expand_dims(img_array, 0)\n",
        "        img_array /= 255.0\n",
        "\n",
        "        predictions = loaded_model.predict(img_array)\n",
        "        predicted_class = tf.argmax(predictions[0]).numpy()\n",
        "\n",
        "        print(\"Predicted Class:\", predicted_class)\n"
      ],
      "metadata": {
        "id": "P7oVkEfmxGEn"
      },
      "execution_count": null,
      "outputs": []
    },
    {
      "cell_type": "code",
      "source": [
        "class Application:\n",
        "\n",
        "    @staticmethod\n",
        "    def run(root_folder='/content/drive/MyDrive/ Archaeological Sites in Jordan (1)', target_size=(224, 224),\n",
        "            batch_size=32, epochs=5):\n",
        "        # Step 1: Load and preprocess data\n",
        "        data_loader = DataLoader()\n",
        "        class_folders, images, labels = data_loader.load_dataset(root_folder)\n",
        "        data_loader.plot_images(images, labels, class_folders)\n",
        "\n",
        "        # Step 2: Augment images\n",
        "        augmented_images = ImageProcessor.augment_images(images)\n",
        "        images = np.concatenate((images, augmented_images), axis=0)\n",
        "        labels = np.concatenate((labels, labels), axis=0)\n",
        "\n",
        "        # Step 3: Split dataset into training, validation\n",
        "        train_dataset, val_dataset = DataLoader.split_dataset(images, labels, BATCH_SIZE, seed=SEED)\n",
        "\n",
        "        # Step 4: Model training using InceptionV3\n",
        "        inception_base_model = InceptionV3(weights='imagenet', include_top=False, input_shape=(224, 224, 3))\n",
        "        custom_model = ModelTrainer.build_model(inception_base_model, len(class_folders))\n",
        "        compiled_model = ModelTrainer.compile_model(custom_model)\n",
        "        trained_model, history = ModelTrainer.train_model(compiled_model, train_dataset, val_dataset, epochs=epochs)\n",
        "        ModelTrainer.plot_history(history)\n",
        "        ModelTrainer.save_model(trained_model, 'inception_model.h5')\n",
        "\n",
        "        # Step 5: Model training using EfficientNet\n",
        "        efficientnet_base_model = EfficientNetB0(weights='imagenet', include_top=False, input_shape=(224, 224, 3))\n",
        "        custom_model = ModelTrainer.build_model(efficientnet_base_model, len(class_folders))\n",
        "        compiled_model = ModelTrainer.compile_model(custom_model)\n",
        "        trained_model, history = ModelTrainer.train_model(compiled_model, train_dataset, val_dataset, epochs=epochs)\n",
        "        ModelTrainer.plot_history(history)\n",
        "        ModelTrainer.save_model(trained_model, 'efficientnet_model.h5')\n",
        "\n",
        "        # Step 6: Model training using ResNet50\n",
        "        resnet_base_model = ResNet50(weights='imagenet', include_top=False, input_shape=(224, 224, 3))\n",
        "        custom_model = ModelTrainer.build_model(resnet_base_model, len(class_folders))\n",
        "        compiled_model = ModelTrainer.compile_model(custom_model)\n",
        "        trained_model, history = ModelTrainer.train_model(compiled_model, train_dataset, val_dataset, epochs=epochs)\n",
        "        ModelTrainer.plot_history(history)\n",
        "        ModelTrainer.save_model(trained_model, 'resnet_model.h5')\n",
        "\n",
        "        # Step 7: Model training using VGG16\n",
        "        vgg_base_model = VGG16(weights='imagenet', include_top=False, input_shape=(224, 224, 3))\n",
        "        custom_model = ModelTrainer.build_model(vgg_base_model, len(class_folders))\n",
        "        compiled_model = ModelTrainer.compile_model(custom_model)\n",
        "        trained_model, history = ModelTrainer.train_model(compiled_model, train_dataset, val_dataset, epochs=epochs)\n",
        "        ModelTrainer.plot_history(history)\n",
        "        ModelTrainer.save_model(trained_model, 'vgg_model.h5')\n",
        "\n",
        "if __name__ == \"__main__\":\n",
        "    Application.run()"
      ],
      "metadata": {
        "colab": {
          "base_uri": "https://localhost:8080/",
          "height": 605
        },
        "id": "DiXo_TcVxM31",
        "outputId": "24fd6af4-a9b1-47eb-a4b2-e73acdb164c2"
      },
      "execution_count": null,
      "outputs": [
        {
          "output_type": "stream",
          "name": "stdout",
          "text": [
            "Loaded 0 images for class 0 from folder /content/drive/MyDrive/ Archaeological Sites in Jordan (1)/test\n",
            "Loaded 0 images for class 1 from folder /content/drive/MyDrive/ Archaeological Sites in Jordan (1)/train\n"
          ]
        },
        {
          "output_type": "error",
          "ename": "IndexError",
          "evalue": "index 0 is out of bounds for axis 0 with size 0",
          "traceback": [
            "\u001b[0;31m---------------------------------------------------------------------------\u001b[0m",
            "\u001b[0;31mIndexError\u001b[0m                                Traceback (most recent call last)",
            "\u001b[0;32m<ipython-input-7-fccdbf4c3d1f>\u001b[0m in \u001b[0;36m<cell line: 51>\u001b[0;34m()\u001b[0m\n\u001b[1;32m     50\u001b[0m \u001b[0;34m\u001b[0m\u001b[0m\n\u001b[1;32m     51\u001b[0m \u001b[0;32mif\u001b[0m \u001b[0m__name__\u001b[0m \u001b[0;34m==\u001b[0m \u001b[0;34m\"__main__\"\u001b[0m\u001b[0;34m:\u001b[0m\u001b[0;34m\u001b[0m\u001b[0;34m\u001b[0m\u001b[0m\n\u001b[0;32m---> 52\u001b[0;31m     \u001b[0mApplication\u001b[0m\u001b[0;34m.\u001b[0m\u001b[0mrun\u001b[0m\u001b[0;34m(\u001b[0m\u001b[0;34m)\u001b[0m\u001b[0;34m\u001b[0m\u001b[0;34m\u001b[0m\u001b[0m\n\u001b[0m",
            "\u001b[0;32m<ipython-input-7-fccdbf4c3d1f>\u001b[0m in \u001b[0;36mrun\u001b[0;34m(root_folder, target_size, batch_size, epochs)\u001b[0m\n\u001b[1;32m      7\u001b[0m         \u001b[0mdata_loader\u001b[0m \u001b[0;34m=\u001b[0m \u001b[0mDataLoader\u001b[0m\u001b[0;34m(\u001b[0m\u001b[0;34m)\u001b[0m\u001b[0;34m\u001b[0m\u001b[0;34m\u001b[0m\u001b[0m\n\u001b[1;32m      8\u001b[0m         \u001b[0mclass_folders\u001b[0m\u001b[0;34m,\u001b[0m \u001b[0mimages\u001b[0m\u001b[0;34m,\u001b[0m \u001b[0mlabels\u001b[0m \u001b[0;34m=\u001b[0m \u001b[0mdata_loader\u001b[0m\u001b[0;34m.\u001b[0m\u001b[0mload_dataset\u001b[0m\u001b[0;34m(\u001b[0m\u001b[0mroot_folder\u001b[0m\u001b[0;34m)\u001b[0m\u001b[0;34m\u001b[0m\u001b[0;34m\u001b[0m\u001b[0m\n\u001b[0;32m----> 9\u001b[0;31m         \u001b[0mdata_loader\u001b[0m\u001b[0;34m.\u001b[0m\u001b[0mplot_images\u001b[0m\u001b[0;34m(\u001b[0m\u001b[0mimages\u001b[0m\u001b[0;34m,\u001b[0m \u001b[0mlabels\u001b[0m\u001b[0;34m,\u001b[0m \u001b[0mclass_folders\u001b[0m\u001b[0;34m)\u001b[0m\u001b[0;34m\u001b[0m\u001b[0;34m\u001b[0m\u001b[0m\n\u001b[0m\u001b[1;32m     10\u001b[0m \u001b[0;34m\u001b[0m\u001b[0m\n\u001b[1;32m     11\u001b[0m         \u001b[0;31m# Step 2: Augment images\u001b[0m\u001b[0;34m\u001b[0m\u001b[0;34m\u001b[0m\u001b[0m\n",
            "\u001b[0;32m<ipython-input-4-2a46b4d02353>\u001b[0m in \u001b[0;36mplot_images\u001b[0;34m(images, labels, class_folders)\u001b[0m\n\u001b[1;32m     42\u001b[0m         \u001b[0;32mfor\u001b[0m \u001b[0mi\u001b[0m \u001b[0;32min\u001b[0m \u001b[0mrange\u001b[0m\u001b[0;34m(\u001b[0m\u001b[0mnum_classes\u001b[0m\u001b[0;34m)\u001b[0m\u001b[0;34m:\u001b[0m\u001b[0;34m\u001b[0m\u001b[0;34m\u001b[0m\u001b[0m\n\u001b[1;32m     43\u001b[0m             \u001b[0mclass_images\u001b[0m \u001b[0;34m=\u001b[0m \u001b[0mimages\u001b[0m\u001b[0;34m[\u001b[0m\u001b[0mlabels\u001b[0m \u001b[0;34m==\u001b[0m \u001b[0mi\u001b[0m\u001b[0;34m]\u001b[0m\u001b[0;34m\u001b[0m\u001b[0;34m\u001b[0m\u001b[0m\n\u001b[0;32m---> 44\u001b[0;31m             \u001b[0maxes\u001b[0m\u001b[0;34m[\u001b[0m\u001b[0mi\u001b[0m\u001b[0;34m]\u001b[0m\u001b[0;34m.\u001b[0m\u001b[0mimshow\u001b[0m\u001b[0;34m(\u001b[0m\u001b[0mclass_images\u001b[0m\u001b[0;34m[\u001b[0m\u001b[0;36m0\u001b[0m\u001b[0;34m]\u001b[0m\u001b[0;34m[\u001b[0m\u001b[0;34m:\u001b[0m\u001b[0;34m,\u001b[0m \u001b[0;34m:\u001b[0m\u001b[0;34m,\u001b[0m \u001b[0;34m:\u001b[0m\u001b[0;34m:\u001b[0m\u001b[0;34m-\u001b[0m\u001b[0;36m1\u001b[0m\u001b[0;34m]\u001b[0m\u001b[0;34m)\u001b[0m\u001b[0;34m\u001b[0m\u001b[0;34m\u001b[0m\u001b[0m\n\u001b[0m\u001b[1;32m     45\u001b[0m             \u001b[0maxes\u001b[0m\u001b[0;34m[\u001b[0m\u001b[0mi\u001b[0m\u001b[0;34m]\u001b[0m\u001b[0;34m.\u001b[0m\u001b[0mset_title\u001b[0m\u001b[0;34m(\u001b[0m\u001b[0;34mf\" {class_folders[i]}\"\u001b[0m\u001b[0;34m)\u001b[0m\u001b[0;34m\u001b[0m\u001b[0;34m\u001b[0m\u001b[0m\n\u001b[1;32m     46\u001b[0m             \u001b[0maxes\u001b[0m\u001b[0;34m[\u001b[0m\u001b[0mi\u001b[0m\u001b[0;34m]\u001b[0m\u001b[0;34m.\u001b[0m\u001b[0maxis\u001b[0m\u001b[0;34m(\u001b[0m\u001b[0;34m'off'\u001b[0m\u001b[0;34m)\u001b[0m\u001b[0;34m\u001b[0m\u001b[0;34m\u001b[0m\u001b[0m\n",
            "\u001b[0;31mIndexError\u001b[0m: index 0 is out of bounds for axis 0 with size 0"
          ]
        },
        {
          "output_type": "display_data",
          "data": {
            "text/plain": [
              "<Figure size 1500x300 with 2 Axes>"
            ],
            "image/png": "[encoded data removed]"
          },
          "metadata": {}
        }
      ]
    }
  ]
}